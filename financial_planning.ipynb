{
 "cells": [
  {
   "cell_type": "code",
   "execution_count": 150,
   "id": "e251fe3e-8b0f-444f-9753-28880a7d3c54",
   "metadata": {},
   "outputs": [],
   "source": [
    "import os\n",
    "import requests\n",
    "import json\n",
    "import pandas as pd\n",
    "from dotenv import load_dotenv\n",
    "import alpaca_trade_api as tradeapi\n",
    "from MCForecastTools import MCSimulation\n",
    "\n",
    "%matplotlib inline"
   ]
  },
  {
   "cell_type": "code",
   "execution_count": 118,
   "id": "2123fc0b-45ff-4248-a75a-228301d78207",
   "metadata": {},
   "outputs": [
    {
     "data": {
      "text/plain": [
       "True"
      ]
     },
     "execution_count": 118,
     "metadata": {},
     "output_type": "execute_result"
    }
   ],
   "source": [
    "load_dotenv()"
   ]
  },
  {
   "cell_type": "code",
   "execution_count": 149,
   "id": "ce88bd0b-e619-43fc-bea8-73e6db509320",
   "metadata": {},
   "outputs": [],
   "source": [
    "monthly_income = 12000"
   ]
  },
  {
   "cell_type": "code",
   "execution_count": 152,
   "id": "d35c7d43-abb4-4082-86d8-ea1427086fd3",
   "metadata": {},
   "outputs": [],
   "source": [
    "btc_url = \"https://api.alternative.me/v2/ticker/Bitcoin/?convert=USD\"\n",
    "eth_url = \"https://api.alternative.me/v2/ticker/Ethereum/?convert=USD\""
   ]
  },
  {
   "cell_type": "code",
   "execution_count": 153,
   "id": "2342ecf2-971e-46c7-b7e8-ad699f653628",
   "metadata": {},
   "outputs": [],
   "source": [
    "response_btc = requests.get(btc_url).json()"
   ]
  },
  {
   "cell_type": "code",
   "execution_count": 14,
   "id": "403e5496-0c8f-498d-9277-19966322774c",
   "metadata": {},
   "outputs": [
    {
     "name": "stdout",
     "output_type": "stream",
     "text": [
      "{\n",
      "    \"data\": {\n",
      "        \"1\": {\n",
      "            \"circulating_supply\": 18918237,\n",
      "            \"id\": 1,\n",
      "            \"last_updated\": 1641159746,\n",
      "            \"max_supply\": 21000000,\n",
      "            \"name\": \"Bitcoin\",\n",
      "            \"quotes\": {\n",
      "                \"USD\": {\n",
      "                    \"market_cap\": 893413269087,\n",
      "                    \"percent_change_1h\": 0.502310891045744,\n",
      "                    \"percent_change_24h\": -0.590347720850314,\n",
      "                    \"percent_change_7d\": -6.76867608373107,\n",
      "                    \"percentage_change_1h\": 0.502310891045744,\n",
      "                    \"percentage_change_24h\": -0.590347720850314,\n",
      "                    \"percentage_change_7d\": -6.76867608373107,\n",
      "                    \"price\": 47234.0,\n",
      "                    \"volume_24h\": 18082148024\n",
      "                }\n",
      "            },\n",
      "            \"rank\": 1,\n",
      "            \"symbol\": \"BTC\",\n",
      "            \"total_supply\": 18918237,\n",
      "            \"website_slug\": \"bitcoin\"\n",
      "        }\n",
      "    },\n",
      "    \"metadata\": {\n",
      "        \"error\": null,\n",
      "        \"num_cryptocurrencies\": 3105,\n",
      "        \"timestamp\": 1641159746\n",
      "    }\n",
      "}\n"
     ]
    }
   ],
   "source": [
    "print(json.dumps(response_btc, indent=4, sort_keys=True))"
   ]
  },
  {
   "cell_type": "code",
   "execution_count": 154,
   "id": "b59a43fe-86ac-4118-893a-6b75987e9e44",
   "metadata": {},
   "outputs": [],
   "source": [
    "response_eth = requests.get(eth_url).json()"
   ]
  },
  {
   "cell_type": "code",
   "execution_count": 16,
   "id": "acc9b079-96c7-4e8f-af7d-28d633b7bbe6",
   "metadata": {},
   "outputs": [
    {
     "name": "stdout",
     "output_type": "stream",
     "text": [
      "{\n",
      "    \"data\": {\n",
      "        \"1027\": {\n",
      "            \"circulating_supply\": 118998334,\n",
      "            \"id\": 1027,\n",
      "            \"last_updated\": 1641159857,\n",
      "            \"max_supply\": 0,\n",
      "            \"name\": \"Ethereum\",\n",
      "            \"quotes\": {\n",
      "                \"USD\": {\n",
      "                    \"market_cap\": 454546130919,\n",
      "                    \"percent_change_1h\": 0.472994548492115,\n",
      "                    \"percent_change_24h\": 1.69204167231837,\n",
      "                    \"percent_change_7d\": -6.96379408425308,\n",
      "                    \"percentage_change_1h\": 0.472994548492115,\n",
      "                    \"percentage_change_24h\": 1.69204167231837,\n",
      "                    \"percentage_change_7d\": -6.96379408425308,\n",
      "                    \"price\": 3824.32,\n",
      "                    \"volume_24h\": 10014080931\n",
      "                }\n",
      "            },\n",
      "            \"rank\": 2,\n",
      "            \"symbol\": \"ETH\",\n",
      "            \"total_supply\": 118998334,\n",
      "            \"website_slug\": \"ethereum\"\n",
      "        }\n",
      "    },\n",
      "    \"metadata\": {\n",
      "        \"error\": null,\n",
      "        \"num_cryptocurrencies\": 3105,\n",
      "        \"timestamp\": 1641159857\n",
      "    }\n",
      "}\n"
     ]
    }
   ],
   "source": [
    "print(json.dumps(response_eth, indent=4, sort_keys=True))"
   ]
  },
  {
   "cell_type": "code",
   "execution_count": 155,
   "id": "ff5ab12b-1217-45f2-a7ef-9d417c7d53d8",
   "metadata": {},
   "outputs": [],
   "source": [
    "btc_price = response_btc['data']['1']['quotes']['USD']['price']"
   ]
  },
  {
   "cell_type": "code",
   "execution_count": 28,
   "id": "79de4861-35c0-4687-8101-a75add3e6cab",
   "metadata": {},
   "outputs": [
    {
     "name": "stdout",
     "output_type": "stream",
     "text": [
      "The price for Bitcoin is $47234.0.\n"
     ]
    }
   ],
   "source": [
    "print(f\"The price for Bitcoin is ${btc_price}.\")"
   ]
  },
  {
   "cell_type": "code",
   "execution_count": 156,
   "id": "6db1dcd0-64cf-4b23-9cb0-601ee1ab9cde",
   "metadata": {},
   "outputs": [],
   "source": [
    "eth_price = response_eth['data']['1027']['quotes']['USD']['price']"
   ]
  },
  {
   "cell_type": "code",
   "execution_count": 27,
   "id": "54c07184-9ad1-4a3c-9b96-74e798f46247",
   "metadata": {},
   "outputs": [
    {
     "name": "stdout",
     "output_type": "stream",
     "text": [
      "The price for Ethereum is $3824.32.\n"
     ]
    }
   ],
   "source": [
    "print(f\"The price for Ethereum is ${eth_price}.\")"
   ]
  },
  {
   "cell_type": "code",
   "execution_count": 157,
   "id": "03fe57ba-044c-4825-8ab8-10208cae3ab1",
   "metadata": {},
   "outputs": [],
   "source": [
    "total_crypto_wallet = btc_price + eth_price"
   ]
  },
  {
   "cell_type": "code",
   "execution_count": 25,
   "id": "859d06ae-5fba-4d2e-8252-b417e6303d55",
   "metadata": {},
   "outputs": [
    {
     "name": "stdout",
     "output_type": "stream",
     "text": [
      "The current balance in your cryptocurrency wallet is $51058.32.\n"
     ]
    }
   ],
   "source": [
    "print(f\"The current balance in your cryptocurrency wallet is ${total_crypto_wallet}.\")"
   ]
  },
  {
   "cell_type": "code",
   "execution_count": 158,
   "id": "52761807-1cab-4095-83a2-fc0f9cfc503a",
   "metadata": {},
   "outputs": [],
   "source": [
    "spy_shares = 110\n",
    "agg_shares = 200"
   ]
  },
  {
   "cell_type": "code",
   "execution_count": 159,
   "id": "8fd9a20f-9609-4c3f-9dbf-db3a41a27a08",
   "metadata": {},
   "outputs": [
    {
     "data": {
      "text/plain": [
       "str"
      ]
     },
     "execution_count": 159,
     "metadata": {},
     "output_type": "execute_result"
    }
   ],
   "source": [
    "alpaca_api_key = os.getenv(\"ALPACA_API_KEY\")\n",
    "alpaca_secret_key = os.getenv(\"ALPACA_SECRET_KEY\")\n",
    "type(alpaca_api_key)\n",
    "type(alpaca_secret_key)"
   ]
  },
  {
   "cell_type": "code",
   "execution_count": 160,
   "id": "c17e316b-31ed-4ae8-bc2c-e0cfc5e075c4",
   "metadata": {},
   "outputs": [],
   "source": [
    "alpaca = tradeapi.REST(\n",
    "    alpaca_api_key,\n",
    "    alpaca_secret_key,\n",
    "    api_version=\"v2\")"
   ]
  },
  {
   "cell_type": "code",
   "execution_count": 161,
   "id": "099379b2-faee-4980-91f3-e62a323110ae",
   "metadata": {},
   "outputs": [],
   "source": [
    "tickers = [\"SPY\", \"AGG\"]\n",
    "timeframe = \"1D\"\n",
    "#start_date = pd.Timestamp(\"2021-12-30\", tz=\"America/New_York\").isoformat()\n",
    "#end_date = pd.Timestamp(\"2021-12-30\", tz=\"America/New_York\").isoformat()\n",
    "fts='2021-12-29T09:45:00-04:00'\n",
    "tts = '2021-12-29T09:45:00-04:00'"
   ]
  },
  {
   "cell_type": "code",
   "execution_count": 162,
   "id": "b39be2a2-4bb3-43ec-b8ac-eeb90ed5242a",
   "metadata": {},
   "outputs": [],
   "source": [
    "ETF_prices_df = alpaca.get_barset(\n",
    "    tickers,\n",
    "    timeframe,\n",
    "    start=fts,\n",
    "    end=tts\n",
    ").df"
   ]
  },
  {
   "cell_type": "code",
   "execution_count": 163,
   "id": "f57cc031-e02e-42ca-9470-5f0e2abf8385",
   "metadata": {},
   "outputs": [
    {
     "data": {
      "text/html": [
       "<div>\n",
       "<style scoped>\n",
       "    .dataframe tbody tr th:only-of-type {\n",
       "        vertical-align: middle;\n",
       "    }\n",
       "\n",
       "    .dataframe tbody tr th {\n",
       "        vertical-align: top;\n",
       "    }\n",
       "\n",
       "    .dataframe thead tr th {\n",
       "        text-align: left;\n",
       "    }\n",
       "\n",
       "    .dataframe thead tr:last-of-type th {\n",
       "        text-align: right;\n",
       "    }\n",
       "</style>\n",
       "<table border=\"1\" class=\"dataframe\">\n",
       "  <thead>\n",
       "    <tr>\n",
       "      <th></th>\n",
       "      <th colspan=\"5\" halign=\"left\">AGG</th>\n",
       "      <th colspan=\"5\" halign=\"left\">SPY</th>\n",
       "    </tr>\n",
       "    <tr>\n",
       "      <th></th>\n",
       "      <th>open</th>\n",
       "      <th>high</th>\n",
       "      <th>low</th>\n",
       "      <th>close</th>\n",
       "      <th>volume</th>\n",
       "      <th>open</th>\n",
       "      <th>high</th>\n",
       "      <th>low</th>\n",
       "      <th>close</th>\n",
       "      <th>volume</th>\n",
       "    </tr>\n",
       "    <tr>\n",
       "      <th>time</th>\n",
       "      <th></th>\n",
       "      <th></th>\n",
       "      <th></th>\n",
       "      <th></th>\n",
       "      <th></th>\n",
       "      <th></th>\n",
       "      <th></th>\n",
       "      <th></th>\n",
       "      <th></th>\n",
       "      <th></th>\n",
       "    </tr>\n",
       "  </thead>\n",
       "  <tbody>\n",
       "    <tr>\n",
       "      <th>2021-12-29 00:00:00-05:00</th>\n",
       "      <td>113.99</td>\n",
       "      <td>114.05</td>\n",
       "      <td>113.81</td>\n",
       "      <td>113.87</td>\n",
       "      <td>5712959</td>\n",
       "      <td>477</td>\n",
       "      <td>478.56</td>\n",
       "      <td>475.92</td>\n",
       "      <td>477.46</td>\n",
       "      <td>47223213</td>\n",
       "    </tr>\n",
       "  </tbody>\n",
       "</table>\n",
       "</div>"
      ],
      "text/plain": [
       "                              AGG                                   SPY  \\\n",
       "                             open    high     low   close   volume open   \n",
       "time                                                                      \n",
       "2021-12-29 00:00:00-05:00  113.99  114.05  113.81  113.87  5712959  477   \n",
       "\n",
       "                                                             \n",
       "                             high     low   close    volume  \n",
       "time                                                         \n",
       "2021-12-29 00:00:00-05:00  478.56  475.92  477.46  47223213  "
      ]
     },
     "execution_count": 163,
     "metadata": {},
     "output_type": "execute_result"
    }
   ],
   "source": [
    "ETF_prices_df.head()"
   ]
  },
  {
   "cell_type": "code",
   "execution_count": 164,
   "id": "42fe4e7f-6999-400d-b520-0ea12544fbb4",
   "metadata": {},
   "outputs": [
    {
     "data": {
      "text/html": [
       "<div>\n",
       "<style scoped>\n",
       "    .dataframe tbody tr th:only-of-type {\n",
       "        vertical-align: middle;\n",
       "    }\n",
       "\n",
       "    .dataframe tbody tr th {\n",
       "        vertical-align: top;\n",
       "    }\n",
       "\n",
       "    .dataframe thead tr th {\n",
       "        text-align: left;\n",
       "    }\n",
       "\n",
       "    .dataframe thead tr:last-of-type th {\n",
       "        text-align: right;\n",
       "    }\n",
       "</style>\n",
       "<table border=\"1\" class=\"dataframe\">\n",
       "  <thead>\n",
       "    <tr>\n",
       "      <th></th>\n",
       "      <th colspan=\"5\" halign=\"left\">AGG</th>\n",
       "      <th colspan=\"5\" halign=\"left\">SPY</th>\n",
       "    </tr>\n",
       "    <tr>\n",
       "      <th></th>\n",
       "      <th>open</th>\n",
       "      <th>high</th>\n",
       "      <th>low</th>\n",
       "      <th>close</th>\n",
       "      <th>volume</th>\n",
       "      <th>open</th>\n",
       "      <th>high</th>\n",
       "      <th>low</th>\n",
       "      <th>close</th>\n",
       "      <th>volume</th>\n",
       "    </tr>\n",
       "    <tr>\n",
       "      <th>time</th>\n",
       "      <th></th>\n",
       "      <th></th>\n",
       "      <th></th>\n",
       "      <th></th>\n",
       "      <th></th>\n",
       "      <th></th>\n",
       "      <th></th>\n",
       "      <th></th>\n",
       "      <th></th>\n",
       "      <th></th>\n",
       "    </tr>\n",
       "  </thead>\n",
       "  <tbody>\n",
       "    <tr>\n",
       "      <th>2021-12-29 00:00:00-05:00</th>\n",
       "      <td>113.99</td>\n",
       "      <td>114.05</td>\n",
       "      <td>113.81</td>\n",
       "      <td>113.87</td>\n",
       "      <td>5712959</td>\n",
       "      <td>477</td>\n",
       "      <td>478.56</td>\n",
       "      <td>475.92</td>\n",
       "      <td>477.46</td>\n",
       "      <td>47223213</td>\n",
       "    </tr>\n",
       "  </tbody>\n",
       "</table>\n",
       "</div>"
      ],
      "text/plain": [
       "                              AGG                                   SPY  \\\n",
       "                             open    high     low   close   volume open   \n",
       "time                                                                      \n",
       "2021-12-29 00:00:00-05:00  113.99  114.05  113.81  113.87  5712959  477   \n",
       "\n",
       "                                                             \n",
       "                             high     low   close    volume  \n",
       "time                                                         \n",
       "2021-12-29 00:00:00-05:00  478.56  475.92  477.46  47223213  "
      ]
     },
     "execution_count": 164,
     "metadata": {},
     "output_type": "execute_result"
    }
   ],
   "source": [
    "ETF_prices_df"
   ]
  },
  {
   "cell_type": "code",
   "execution_count": 165,
   "id": "8f69ae4e-7af7-478f-823b-acaf54a88431",
   "metadata": {},
   "outputs": [],
   "source": [
    "AGG_price = float(ETF_prices_df[\"AGG\"][\"close\"])\n",
    "SPY_price = float(ETF_prices_df[\"SPY\"][\"close\"])"
   ]
  },
  {
   "cell_type": "code",
   "execution_count": 166,
   "id": "aa7788f2-a66f-4e52-ad82-125a5e9a9696",
   "metadata": {},
   "outputs": [],
   "source": [
    "agg_value = AGG_price * agg_shares"
   ]
  },
  {
   "cell_type": "code",
   "execution_count": 167,
   "id": "d456bf38-26d4-4be8-9876-e3b75e306130",
   "metadata": {},
   "outputs": [
    {
     "name": "stdout",
     "output_type": "stream",
     "text": [
      "The current value of the bond portfolio is $ 22774.00.\n"
     ]
    }
   ],
   "source": [
    "print(f\"The current value of the bond portfolio is ${agg_value: .2f}.\")"
   ]
  },
  {
   "cell_type": "code",
   "execution_count": 168,
   "id": "79fd7e9a-e7b8-4b3a-b068-63de26a7d0eb",
   "metadata": {},
   "outputs": [],
   "source": [
    "spy_value = SPY_price * spy_shares"
   ]
  },
  {
   "cell_type": "code",
   "execution_count": 169,
   "id": "4c4364dd-aa33-466b-86c3-c402530ff627",
   "metadata": {},
   "outputs": [
    {
     "name": "stdout",
     "output_type": "stream",
     "text": [
      "The current value of the stock portfolio is $ 52520.60.\n"
     ]
    }
   ],
   "source": [
    "print(f\"The current value of the stock portfolio is ${spy_value: .2f}.\")"
   ]
  },
  {
   "cell_type": "code",
   "execution_count": 170,
   "id": "54639e6a-8e0d-4cc6-83c5-479d739e1fad",
   "metadata": {},
   "outputs": [],
   "source": [
    "total_stocks_bonds = agg_value + spy_value"
   ]
  },
  {
   "cell_type": "code",
   "execution_count": 141,
   "id": "3c37f268-b562-4b7e-a780-6247bce59a38",
   "metadata": {},
   "outputs": [
    {
     "name": "stdout",
     "output_type": "stream",
     "text": [
      "The current balance of the stock and bond portfolios is $ 75294.60.\n"
     ]
    }
   ],
   "source": [
    "print(f\"The current balance of the stock and bond portfolios is ${total_stocks_bonds: .2f}.\")"
   ]
  },
  {
   "cell_type": "code",
   "execution_count": 171,
   "id": "3745ca11-2adb-48d1-ab0a-0a5d01b9c804",
   "metadata": {},
   "outputs": [],
   "source": [
    "total_portfolio = total_stocks_bonds + total_crypto_wallet"
   ]
  },
  {
   "cell_type": "code",
   "execution_count": 172,
   "id": "aab23a74-f990-4bed-8ab6-6ec5805409ad",
   "metadata": {},
   "outputs": [
    {
     "name": "stdout",
     "output_type": "stream",
     "text": [
      "The total portfolio value is $ 120732.52.\n"
     ]
    }
   ],
   "source": [
    "print(f\"The total portfolio value is ${total_portfolio: .2f}.\")"
   ]
  },
  {
   "cell_type": "code",
   "execution_count": 173,
   "id": "d968f751-b6cf-4b46-9d1b-97f26ea0afec",
   "metadata": {},
   "outputs": [],
   "source": [
    "savings_data = [total_crypto_wallet, total_stocks_bonds]"
   ]
  },
  {
   "cell_type": "code",
   "execution_count": 174,
   "id": "1640cb48-92c8-4a97-b829-6bc3a06094bf",
   "metadata": {},
   "outputs": [
    {
     "data": {
      "text/plain": [
       "[45437.92, 75294.6]"
      ]
     },
     "execution_count": 174,
     "metadata": {},
     "output_type": "execute_result"
    }
   ],
   "source": [
    "savings_data"
   ]
  },
  {
   "cell_type": "code",
   "execution_count": 175,
   "id": "4f6ce974-6a6b-46e3-b2fe-08fe990819e0",
   "metadata": {},
   "outputs": [],
   "source": [
    "savings_df = pd.DataFrame(savings_data, index=['crypto', 'stock_bond'], columns=['amount'])"
   ]
  },
  {
   "cell_type": "code",
   "execution_count": 176,
   "id": "06fc43e5-c2e3-48a0-997b-66ad9252bcb8",
   "metadata": {},
   "outputs": [
    {
     "data": {
      "text/html": [
       "<div>\n",
       "<style scoped>\n",
       "    .dataframe tbody tr th:only-of-type {\n",
       "        vertical-align: middle;\n",
       "    }\n",
       "\n",
       "    .dataframe tbody tr th {\n",
       "        vertical-align: top;\n",
       "    }\n",
       "\n",
       "    .dataframe thead th {\n",
       "        text-align: right;\n",
       "    }\n",
       "</style>\n",
       "<table border=\"1\" class=\"dataframe\">\n",
       "  <thead>\n",
       "    <tr style=\"text-align: right;\">\n",
       "      <th></th>\n",
       "      <th>amount</th>\n",
       "    </tr>\n",
       "  </thead>\n",
       "  <tbody>\n",
       "    <tr>\n",
       "      <th>crypto</th>\n",
       "      <td>45437.92</td>\n",
       "    </tr>\n",
       "    <tr>\n",
       "      <th>stock_bond</th>\n",
       "      <td>75294.60</td>\n",
       "    </tr>\n",
       "  </tbody>\n",
       "</table>\n",
       "</div>"
      ],
      "text/plain": [
       "              amount\n",
       "crypto      45437.92\n",
       "stock_bond  75294.60"
      ]
     },
     "execution_count": 176,
     "metadata": {},
     "output_type": "execute_result"
    }
   ],
   "source": [
    "savings_df"
   ]
  },
  {
   "cell_type": "code",
   "execution_count": 178,
   "id": "4b2d9063-965c-47ed-9106-cf93d5e713fc",
   "metadata": {},
   "outputs": [
    {
     "data": {
      "text/plain": [
       "Text(0.5, 1.0, 'Pie chart showning distribution of investments between crypto and stocks and bonds')"
      ]
     },
     "execution_count": 178,
     "metadata": {},
     "output_type": "execute_result"
    },
    {
     "data": {
      "image/png": "[encoded data removed]",
      "text/plain": [
       "<Figure size 432x288 with 1 Axes>"
      ]
     },
     "metadata": {},
     "output_type": "display_data"
    }
   ],
   "source": [
    "ax = savings_df.plot(kind=\"pie\", y=\"amount\")\n",
    "ax.set_title('Pie chart showning distribution of investments between crypto and stocks and bonds')"
   ]
  },
  {
   "cell_type": "code",
   "execution_count": 179,
   "id": "222aab88-cec7-4634-a929-dba49abde586",
   "metadata": {},
   "outputs": [],
   "source": [
    "emergency_fund_value = monthly_income * 3"
   ]
  },
  {
   "cell_type": "code",
   "execution_count": 180,
   "id": "5134eca8-5faf-42fb-bd92-9097d0c6ac40",
   "metadata": {},
   "outputs": [
    {
     "name": "stdout",
     "output_type": "stream",
     "text": [
      "Congratulations! You have enough money saved to set aside an emergency fund.\n"
     ]
    }
   ],
   "source": [
    "if total_portfolio > emergency_fund_value:\n",
    "    print('Congratulations! You have enough money saved to set aside an emergency fund.'),\n",
    "elif total_portfolio == emergency_fund_value:\n",
    "    print('Congratulations! You have reached an important financial goal.'),\n",
    "else:\n",
    "    print(f\"You are ${emergency_fund_value - total_portfolio} from reaching this important financial goal.\")"
   ]
  },
  {
   "cell_type": "code",
   "execution_count": 188,
   "id": "31ccb13e-2ae6-45da-aeeb-5811f7cad8a6",
   "metadata": {},
   "outputs": [
    {
     "data": {
      "text/plain": [
       "str"
      ]
     },
     "execution_count": 188,
     "metadata": {},
     "output_type": "execute_result"
    }
   ],
   "source": [
    "alpaca_api_key = os.getenv(\"ALPACA_API_KEY\")\n",
    "alpaca_secret_key = os.getenv(\"ALPACA_SECRET_KEY\")\n",
    "type(alpaca_api_key)\n",
    "type(alpaca_secret_key)"
   ]
  },
  {
   "cell_type": "code",
   "execution_count": 189,
   "id": "f87a34f8-fee9-44ef-9542-2c86bb327203",
   "metadata": {},
   "outputs": [],
   "source": [
    "alpaca = tradeapi.REST(\n",
    "    alpaca_api_key,\n",
    "    alpaca_secret_key,\n",
    "    api_version=\"v2\")"
   ]
  },
  {
   "cell_type": "code",
   "execution_count": 209,
   "id": "9de3922b-500f-4c4f-8a11-3761e042314c",
   "metadata": {},
   "outputs": [
    {
     "name": "stdout",
     "output_type": "stream",
     "text": [
      "2018-05-08T09:45:00-04:00\n"
     ]
    }
   ],
   "source": [
    "tickers = [\"SPY\", \"AGG\"]\n",
    "timeframe = \"1D\"\n",
    "fts='2018-05-08T09:45:00-04:00'\n",
    "tts = '2019-05-08T09:45:00-04:00'\n",
    "print(fts)"
   ]
  },
  {
   "cell_type": "code",
   "execution_count": 210,
   "id": "47765ebf-bc1e-47d3-89cc-88bee679d759",
   "metadata": {},
   "outputs": [],
   "source": [
    "portfolio_split_df = alpaca.get_barset(\n",
    "    tickers,\n",
    "    timeframe,\n",
    "    start = fts,\n",
    "    end = tts\n",
    ").df"
   ]
  },
  {
   "cell_type": "code",
   "execution_count": 211,
   "id": "53fee153-0cf4-4764-9bcd-a67ae0b6da0e",
   "metadata": {},
   "outputs": [
    {
     "data": {
      "text/html": [
       "<div>\n",
       "<style scoped>\n",
       "    .dataframe tbody tr th:only-of-type {\n",
       "        vertical-align: middle;\n",
       "    }\n",
       "\n",
       "    .dataframe tbody tr th {\n",
       "        vertical-align: top;\n",
       "    }\n",
       "\n",
       "    .dataframe thead tr th {\n",
       "        text-align: left;\n",
       "    }\n",
       "\n",
       "    .dataframe thead tr:last-of-type th {\n",
       "        text-align: right;\n",
       "    }\n",
       "</style>\n",
       "<table border=\"1\" class=\"dataframe\">\n",
       "  <thead>\n",
       "    <tr>\n",
       "      <th></th>\n",
       "      <th colspan=\"5\" halign=\"left\">AGG</th>\n",
       "      <th colspan=\"5\" halign=\"left\">SPY</th>\n",
       "    </tr>\n",
       "    <tr>\n",
       "      <th></th>\n",
       "      <th>open</th>\n",
       "      <th>high</th>\n",
       "      <th>low</th>\n",
       "      <th>close</th>\n",
       "      <th>volume</th>\n",
       "      <th>open</th>\n",
       "      <th>high</th>\n",
       "      <th>low</th>\n",
       "      <th>close</th>\n",
       "      <th>volume</th>\n",
       "    </tr>\n",
       "    <tr>\n",
       "      <th>time</th>\n",
       "      <th></th>\n",
       "      <th></th>\n",
       "      <th></th>\n",
       "      <th></th>\n",
       "      <th></th>\n",
       "      <th></th>\n",
       "      <th></th>\n",
       "      <th></th>\n",
       "      <th></th>\n",
       "      <th></th>\n",
       "    </tr>\n",
       "  </thead>\n",
       "  <tbody>\n",
       "    <tr>\n",
       "      <th>2018-12-13 00:00:00-05:00</th>\n",
       "      <td>105.59</td>\n",
       "      <td>105.6500</td>\n",
       "      <td>105.53</td>\n",
       "      <td>105.535</td>\n",
       "      <td>4859560</td>\n",
       "      <td>266.52</td>\n",
       "      <td>267.4900</td>\n",
       "      <td>264.120</td>\n",
       "      <td>265.41</td>\n",
       "      <td>85184961</td>\n",
       "    </tr>\n",
       "    <tr>\n",
       "      <th>2018-12-14 00:00:00-05:00</th>\n",
       "      <td>105.68</td>\n",
       "      <td>105.6800</td>\n",
       "      <td>105.56</td>\n",
       "      <td>105.560</td>\n",
       "      <td>5271384</td>\n",
       "      <td>262.96</td>\n",
       "      <td>265.5126</td>\n",
       "      <td>259.850</td>\n",
       "      <td>260.50</td>\n",
       "      <td>102862203</td>\n",
       "    </tr>\n",
       "    <tr>\n",
       "      <th>2018-12-17 00:00:00-05:00</th>\n",
       "      <td>105.66</td>\n",
       "      <td>105.7800</td>\n",
       "      <td>105.61</td>\n",
       "      <td>105.750</td>\n",
       "      <td>6643780</td>\n",
       "      <td>259.40</td>\n",
       "      <td>260.6800</td>\n",
       "      <td>253.525</td>\n",
       "      <td>255.10</td>\n",
       "      <td>144021435</td>\n",
       "    </tr>\n",
       "    <tr>\n",
       "      <th>2018-12-18 00:00:00-05:00</th>\n",
       "      <td>105.63</td>\n",
       "      <td>105.8400</td>\n",
       "      <td>105.63</td>\n",
       "      <td>105.820</td>\n",
       "      <td>6444906</td>\n",
       "      <td>257.20</td>\n",
       "      <td>257.9500</td>\n",
       "      <td>253.280</td>\n",
       "      <td>255.12</td>\n",
       "      <td>119045611</td>\n",
       "    </tr>\n",
       "    <tr>\n",
       "      <th>2018-12-19 00:00:00-05:00</th>\n",
       "      <td>105.88</td>\n",
       "      <td>106.1699</td>\n",
       "      <td>105.79</td>\n",
       "      <td>105.950</td>\n",
       "      <td>7177745</td>\n",
       "      <td>255.17</td>\n",
       "      <td>259.4000</td>\n",
       "      <td>249.350</td>\n",
       "      <td>251.19</td>\n",
       "      <td>195780833</td>\n",
       "    </tr>\n",
       "  </tbody>\n",
       "</table>\n",
       "</div>"
      ],
      "text/plain": [
       "                              AGG                                         SPY  \\\n",
       "                             open      high     low    close   volume    open   \n",
       "time                                                                            \n",
       "2018-12-13 00:00:00-05:00  105.59  105.6500  105.53  105.535  4859560  266.52   \n",
       "2018-12-14 00:00:00-05:00  105.68  105.6800  105.56  105.560  5271384  262.96   \n",
       "2018-12-17 00:00:00-05:00  105.66  105.7800  105.61  105.750  6643780  259.40   \n",
       "2018-12-18 00:00:00-05:00  105.63  105.8400  105.63  105.820  6444906  257.20   \n",
       "2018-12-19 00:00:00-05:00  105.88  106.1699  105.79  105.950  7177745  255.17   \n",
       "\n",
       "                                                                 \n",
       "                               high      low   close     volume  \n",
       "time                                                             \n",
       "2018-12-13 00:00:00-05:00  267.4900  264.120  265.41   85184961  \n",
       "2018-12-14 00:00:00-05:00  265.5126  259.850  260.50  102862203  \n",
       "2018-12-17 00:00:00-05:00  260.6800  253.525  255.10  144021435  \n",
       "2018-12-18 00:00:00-05:00  257.9500  253.280  255.12  119045611  \n",
       "2018-12-19 00:00:00-05:00  259.4000  249.350  251.19  195780833  "
      ]
     },
     "metadata": {},
     "output_type": "display_data"
    }
   ],
   "source": [
    "display(portfolio_split_df.head())"
   ]
  },
  {
   "cell_type": "code",
   "execution_count": 186,
   "id": "2edd134f-e47b-42dd-87bd-13488ce2f474",
   "metadata": {},
   "outputs": [
    {
     "data": {
      "text/html": [
       "<div>\n",
       "<style scoped>\n",
       "    .dataframe tbody tr th:only-of-type {\n",
       "        vertical-align: middle;\n",
       "    }\n",
       "\n",
       "    .dataframe tbody tr th {\n",
       "        vertical-align: top;\n",
       "    }\n",
       "\n",
       "    .dataframe thead tr th {\n",
       "        text-align: left;\n",
       "    }\n",
       "\n",
       "    .dataframe thead tr:last-of-type th {\n",
       "        text-align: right;\n",
       "    }\n",
       "</style>\n",
       "<table border=\"1\" class=\"dataframe\">\n",
       "  <thead>\n",
       "    <tr>\n",
       "      <th></th>\n",
       "      <th colspan=\"5\" halign=\"left\">AGG</th>\n",
       "      <th colspan=\"5\" halign=\"left\">SPY</th>\n",
       "    </tr>\n",
       "    <tr>\n",
       "      <th></th>\n",
       "      <th>open</th>\n",
       "      <th>high</th>\n",
       "      <th>low</th>\n",
       "      <th>close</th>\n",
       "      <th>volume</th>\n",
       "      <th>open</th>\n",
       "      <th>high</th>\n",
       "      <th>low</th>\n",
       "      <th>close</th>\n",
       "      <th>volume</th>\n",
       "    </tr>\n",
       "    <tr>\n",
       "      <th>time</th>\n",
       "      <th></th>\n",
       "      <th></th>\n",
       "      <th></th>\n",
       "      <th></th>\n",
       "      <th></th>\n",
       "      <th></th>\n",
       "      <th></th>\n",
       "      <th></th>\n",
       "      <th></th>\n",
       "      <th></th>\n",
       "    </tr>\n",
       "  </thead>\n",
       "  <tbody>\n",
       "    <tr>\n",
       "      <th>2021-12-22 00:00:00-05:00</th>\n",
       "      <td>114.33</td>\n",
       "      <td>114.35</td>\n",
       "      <td>114.17</td>\n",
       "      <td>114.34</td>\n",
       "      <td>5736004</td>\n",
       "      <td>462.79</td>\n",
       "      <td>467.81</td>\n",
       "      <td>462.58</td>\n",
       "      <td>467.69</td>\n",
       "      <td>50038091</td>\n",
       "    </tr>\n",
       "    <tr>\n",
       "      <th>2021-12-23 00:00:00-05:00</th>\n",
       "      <td>114.29</td>\n",
       "      <td>114.31</td>\n",
       "      <td>114.07</td>\n",
       "      <td>114.19</td>\n",
       "      <td>5304915</td>\n",
       "      <td>468.75</td>\n",
       "      <td>472.19</td>\n",
       "      <td>468.64</td>\n",
       "      <td>470.58</td>\n",
       "      <td>47149529</td>\n",
       "    </tr>\n",
       "    <tr>\n",
       "      <th>2021-12-27 00:00:00-05:00</th>\n",
       "      <td>114.15</td>\n",
       "      <td>114.30</td>\n",
       "      <td>114.13</td>\n",
       "      <td>114.27</td>\n",
       "      <td>5069840</td>\n",
       "      <td>472.03</td>\n",
       "      <td>477.31</td>\n",
       "      <td>472.01</td>\n",
       "      <td>477.27</td>\n",
       "      <td>46260198</td>\n",
       "    </tr>\n",
       "    <tr>\n",
       "      <th>2021-12-28 00:00:00-05:00</th>\n",
       "      <td>114.43</td>\n",
       "      <td>114.45</td>\n",
       "      <td>114.17</td>\n",
       "      <td>114.22</td>\n",
       "      <td>4892072</td>\n",
       "      <td>477.72</td>\n",
       "      <td>478.81</td>\n",
       "      <td>476.06</td>\n",
       "      <td>476.89</td>\n",
       "      <td>37370466</td>\n",
       "    </tr>\n",
       "    <tr>\n",
       "      <th>2021-12-29 00:00:00-05:00</th>\n",
       "      <td>113.99</td>\n",
       "      <td>114.05</td>\n",
       "      <td>113.81</td>\n",
       "      <td>113.87</td>\n",
       "      <td>5712959</td>\n",
       "      <td>477.00</td>\n",
       "      <td>478.56</td>\n",
       "      <td>475.92</td>\n",
       "      <td>477.46</td>\n",
       "      <td>47223213</td>\n",
       "    </tr>\n",
       "  </tbody>\n",
       "</table>\n",
       "</div>"
      ],
      "text/plain": [
       "                              AGG                                      SPY  \\\n",
       "                             open    high     low   close   volume    open   \n",
       "time                                                                         \n",
       "2021-12-22 00:00:00-05:00  114.33  114.35  114.17  114.34  5736004  462.79   \n",
       "2021-12-23 00:00:00-05:00  114.29  114.31  114.07  114.19  5304915  468.75   \n",
       "2021-12-27 00:00:00-05:00  114.15  114.30  114.13  114.27  5069840  472.03   \n",
       "2021-12-28 00:00:00-05:00  114.43  114.45  114.17  114.22  4892072  477.72   \n",
       "2021-12-29 00:00:00-05:00  113.99  114.05  113.81  113.87  5712959  477.00   \n",
       "\n",
       "                                                             \n",
       "                             high     low   close    volume  \n",
       "time                                                         \n",
       "2021-12-22 00:00:00-05:00  467.81  462.58  467.69  50038091  \n",
       "2021-12-23 00:00:00-05:00  472.19  468.64  470.58  47149529  \n",
       "2021-12-27 00:00:00-05:00  477.31  472.01  477.27  46260198  \n",
       "2021-12-28 00:00:00-05:00  478.81  476.06  476.89  37370466  \n",
       "2021-12-29 00:00:00-05:00  478.56  475.92  477.46  47223213  "
      ]
     },
     "metadata": {},
     "output_type": "display_data"
    }
   ],
   "source": [
    "display(portfolio_split_df.tail())"
   ]
  },
  {
   "cell_type": "code",
   "execution_count": 212,
   "id": "7b21f32e-977c-4e17-ba9e-3ec22b6fa4af",
   "metadata": {},
   "outputs": [
    {
     "data": {
      "text/html": [
       "<div>\n",
       "<style scoped>\n",
       "    .dataframe tbody tr th:only-of-type {\n",
       "        vertical-align: middle;\n",
       "    }\n",
       "\n",
       "    .dataframe tbody tr th {\n",
       "        vertical-align: top;\n",
       "    }\n",
       "\n",
       "    .dataframe thead tr th {\n",
       "        text-align: left;\n",
       "    }\n",
       "</style>\n",
       "<table border=\"1\" class=\"dataframe\">\n",
       "  <thead>\n",
       "    <tr>\n",
       "      <th></th>\n",
       "      <th colspan=\"5\" halign=\"left\">AGG</th>\n",
       "      <th colspan=\"5\" halign=\"left\">SPY</th>\n",
       "    </tr>\n",
       "    <tr>\n",
       "      <th></th>\n",
       "      <th>open</th>\n",
       "      <th>high</th>\n",
       "      <th>low</th>\n",
       "      <th>close</th>\n",
       "      <th>volume</th>\n",
       "      <th>open</th>\n",
       "      <th>high</th>\n",
       "      <th>low</th>\n",
       "      <th>close</th>\n",
       "      <th>volume</th>\n",
       "    </tr>\n",
       "  </thead>\n",
       "  <tbody>\n",
       "    <tr>\n",
       "      <th>count</th>\n",
       "      <td>100.000000</td>\n",
       "      <td>100.000000</td>\n",
       "      <td>100.000000</td>\n",
       "      <td>100.000000</td>\n",
       "      <td>1.000000e+02</td>\n",
       "      <td>100.000000</td>\n",
       "      <td>100.000000</td>\n",
       "      <td>100.000000</td>\n",
       "      <td>100.000000</td>\n",
       "      <td>1.000000e+02</td>\n",
       "    </tr>\n",
       "    <tr>\n",
       "      <th>mean</th>\n",
       "      <td>107.359350</td>\n",
       "      <td>107.485381</td>\n",
       "      <td>107.212602</td>\n",
       "      <td>107.371353</td>\n",
       "      <td>4.371853e+06</td>\n",
       "      <td>273.866963</td>\n",
       "      <td>275.315995</td>\n",
       "      <td>272.049573</td>\n",
       "      <td>274.009704</td>\n",
       "      <td>7.427551e+07</td>\n",
       "    </tr>\n",
       "    <tr>\n",
       "      <th>std</th>\n",
       "      <td>0.934059</td>\n",
       "      <td>0.930624</td>\n",
       "      <td>0.962833</td>\n",
       "      <td>0.939308</td>\n",
       "      <td>2.163242e+06</td>\n",
       "      <td>14.507188</td>\n",
       "      <td>13.775041</td>\n",
       "      <td>15.342012</td>\n",
       "      <td>14.493371</td>\n",
       "      <td>3.640131e+07</td>\n",
       "    </tr>\n",
       "    <tr>\n",
       "      <th>min</th>\n",
       "      <td>105.590000</td>\n",
       "      <td>105.650000</td>\n",
       "      <td>105.530000</td>\n",
       "      <td>105.535000</td>\n",
       "      <td>1.560565e+06</td>\n",
       "      <td>235.970000</td>\n",
       "      <td>240.835500</td>\n",
       "      <td>233.760000</td>\n",
       "      <td>234.410000</td>\n",
       "      <td>2.692951e+07</td>\n",
       "    </tr>\n",
       "    <tr>\n",
       "      <th>25%</th>\n",
       "      <td>106.610000</td>\n",
       "      <td>106.738750</td>\n",
       "      <td>106.467575</td>\n",
       "      <td>106.611250</td>\n",
       "      <td>2.581908e+06</td>\n",
       "      <td>263.787500</td>\n",
       "      <td>264.730000</td>\n",
       "      <td>261.607500</td>\n",
       "      <td>263.257500</td>\n",
       "      <td>5.259238e+07</td>\n",
       "    </tr>\n",
       "    <tr>\n",
       "      <th>50%</th>\n",
       "      <td>107.280000</td>\n",
       "      <td>107.395000</td>\n",
       "      <td>107.180000</td>\n",
       "      <td>107.315000</td>\n",
       "      <td>3.642385e+06</td>\n",
       "      <td>277.960000</td>\n",
       "      <td>279.040000</td>\n",
       "      <td>276.905000</td>\n",
       "      <td>278.465000</td>\n",
       "      <td>6.353129e+07</td>\n",
       "    </tr>\n",
       "    <tr>\n",
       "      <th>75%</th>\n",
       "      <td>108.252500</td>\n",
       "      <td>108.335000</td>\n",
       "      <td>108.192500</td>\n",
       "      <td>108.260000</td>\n",
       "      <td>5.701763e+06</td>\n",
       "      <td>286.225000</td>\n",
       "      <td>286.537250</td>\n",
       "      <td>285.255000</td>\n",
       "      <td>286.115000</td>\n",
       "      <td>8.076510e+07</td>\n",
       "    </tr>\n",
       "    <tr>\n",
       "      <th>max</th>\n",
       "      <td>109.060000</td>\n",
       "      <td>109.180000</td>\n",
       "      <td>108.960000</td>\n",
       "      <td>109.070000</td>\n",
       "      <td>1.139411e+07</td>\n",
       "      <td>294.720000</td>\n",
       "      <td>294.950000</td>\n",
       "      <td>293.410000</td>\n",
       "      <td>294.020000</td>\n",
       "      <td>2.215642e+08</td>\n",
       "    </tr>\n",
       "  </tbody>\n",
       "</table>\n",
       "</div>"
      ],
      "text/plain": [
       "              AGG                                                    \\\n",
       "             open        high         low       close        volume   \n",
       "count  100.000000  100.000000  100.000000  100.000000  1.000000e+02   \n",
       "mean   107.359350  107.485381  107.212602  107.371353  4.371853e+06   \n",
       "std      0.934059    0.930624    0.962833    0.939308  2.163242e+06   \n",
       "min    105.590000  105.650000  105.530000  105.535000  1.560565e+06   \n",
       "25%    106.610000  106.738750  106.467575  106.611250  2.581908e+06   \n",
       "50%    107.280000  107.395000  107.180000  107.315000  3.642385e+06   \n",
       "75%    108.252500  108.335000  108.192500  108.260000  5.701763e+06   \n",
       "max    109.060000  109.180000  108.960000  109.070000  1.139411e+07   \n",
       "\n",
       "              SPY                                                    \n",
       "             open        high         low       close        volume  \n",
       "count  100.000000  100.000000  100.000000  100.000000  1.000000e+02  \n",
       "mean   273.866963  275.315995  272.049573  274.009704  7.427551e+07  \n",
       "std     14.507188   13.775041   15.342012   14.493371  3.640131e+07  \n",
       "min    235.970000  240.835500  233.760000  234.410000  2.692951e+07  \n",
       "25%    263.787500  264.730000  261.607500  263.257500  5.259238e+07  \n",
       "50%    277.960000  279.040000  276.905000  278.465000  6.353129e+07  \n",
       "75%    286.225000  286.537250  285.255000  286.115000  8.076510e+07  \n",
       "max    294.720000  294.950000  293.410000  294.020000  2.215642e+08  "
      ]
     },
     "execution_count": 212,
     "metadata": {},
     "output_type": "execute_result"
    }
   ],
   "source": [
    "portfolio_split_df.describe()"
   ]
  },
  {
   "cell_type": "code",
   "execution_count": 213,
   "id": "e1a85dc8-d6e3-49e6-8d94-97d94c3051dc",
   "metadata": {},
   "outputs": [],
   "source": [
    "MC_thirtyyear = MCSimulation(\n",
    "  portfolio_data = portfolio_split_df,\n",
    "  weights = [.40,.60],\n",
    "  num_simulation = 500,\n",
    "  num_trading_days = 252*30\n",
    ")"
   ]
  },
  {
   "cell_type": "code",
   "execution_count": 214,
   "id": "f2bbaad7-80a5-43cf-ac65-ee9de4055c4a",
   "metadata": {},
   "outputs": [
    {
     "data": {
      "text/html": [
       "<div>\n",
       "<style scoped>\n",
       "    .dataframe tbody tr th:only-of-type {\n",
       "        vertical-align: middle;\n",
       "    }\n",
       "\n",
       "    .dataframe tbody tr th {\n",
       "        vertical-align: top;\n",
       "    }\n",
       "\n",
       "    .dataframe thead tr th {\n",
       "        text-align: left;\n",
       "    }\n",
       "\n",
       "    .dataframe thead tr:last-of-type th {\n",
       "        text-align: right;\n",
       "    }\n",
       "</style>\n",
       "<table border=\"1\" class=\"dataframe\">\n",
       "  <thead>\n",
       "    <tr>\n",
       "      <th></th>\n",
       "      <th colspan=\"6\" halign=\"left\">AGG</th>\n",
       "      <th colspan=\"6\" halign=\"left\">SPY</th>\n",
       "    </tr>\n",
       "    <tr>\n",
       "      <th></th>\n",
       "      <th>open</th>\n",
       "      <th>high</th>\n",
       "      <th>low</th>\n",
       "      <th>close</th>\n",
       "      <th>volume</th>\n",
       "      <th>daily_return</th>\n",
       "      <th>open</th>\n",
       "      <th>high</th>\n",
       "      <th>low</th>\n",
       "      <th>close</th>\n",
       "      <th>volume</th>\n",
       "      <th>daily_return</th>\n",
       "    </tr>\n",
       "    <tr>\n",
       "      <th>time</th>\n",
       "      <th></th>\n",
       "      <th></th>\n",
       "      <th></th>\n",
       "      <th></th>\n",
       "      <th></th>\n",
       "      <th></th>\n",
       "      <th></th>\n",
       "      <th></th>\n",
       "      <th></th>\n",
       "      <th></th>\n",
       "      <th></th>\n",
       "      <th></th>\n",
       "    </tr>\n",
       "  </thead>\n",
       "  <tbody>\n",
       "    <tr>\n",
       "      <th>2018-12-13 00:00:00-05:00</th>\n",
       "      <td>105.59</td>\n",
       "      <td>105.6500</td>\n",
       "      <td>105.53</td>\n",
       "      <td>105.535</td>\n",
       "      <td>4859560</td>\n",
       "      <td>NaN</td>\n",
       "      <td>266.52</td>\n",
       "      <td>267.4900</td>\n",
       "      <td>264.120</td>\n",
       "      <td>265.41</td>\n",
       "      <td>85184961</td>\n",
       "      <td>NaN</td>\n",
       "    </tr>\n",
       "    <tr>\n",
       "      <th>2018-12-14 00:00:00-05:00</th>\n",
       "      <td>105.68</td>\n",
       "      <td>105.6800</td>\n",
       "      <td>105.56</td>\n",
       "      <td>105.560</td>\n",
       "      <td>5271384</td>\n",
       "      <td>0.000237</td>\n",
       "      <td>262.96</td>\n",
       "      <td>265.5126</td>\n",
       "      <td>259.850</td>\n",
       "      <td>260.50</td>\n",
       "      <td>102862203</td>\n",
       "      <td>-0.018500</td>\n",
       "    </tr>\n",
       "    <tr>\n",
       "      <th>2018-12-17 00:00:00-05:00</th>\n",
       "      <td>105.66</td>\n",
       "      <td>105.7800</td>\n",
       "      <td>105.61</td>\n",
       "      <td>105.750</td>\n",
       "      <td>6643780</td>\n",
       "      <td>0.001800</td>\n",
       "      <td>259.40</td>\n",
       "      <td>260.6800</td>\n",
       "      <td>253.525</td>\n",
       "      <td>255.10</td>\n",
       "      <td>144021435</td>\n",
       "      <td>-0.020729</td>\n",
       "    </tr>\n",
       "    <tr>\n",
       "      <th>2018-12-18 00:00:00-05:00</th>\n",
       "      <td>105.63</td>\n",
       "      <td>105.8400</td>\n",
       "      <td>105.63</td>\n",
       "      <td>105.820</td>\n",
       "      <td>6444906</td>\n",
       "      <td>0.000662</td>\n",
       "      <td>257.20</td>\n",
       "      <td>257.9500</td>\n",
       "      <td>253.280</td>\n",
       "      <td>255.12</td>\n",
       "      <td>119045611</td>\n",
       "      <td>0.000078</td>\n",
       "    </tr>\n",
       "    <tr>\n",
       "      <th>2018-12-19 00:00:00-05:00</th>\n",
       "      <td>105.88</td>\n",
       "      <td>106.1699</td>\n",
       "      <td>105.79</td>\n",
       "      <td>105.950</td>\n",
       "      <td>7177745</td>\n",
       "      <td>0.001229</td>\n",
       "      <td>255.17</td>\n",
       "      <td>259.4000</td>\n",
       "      <td>249.350</td>\n",
       "      <td>251.19</td>\n",
       "      <td>195780833</td>\n",
       "      <td>-0.015405</td>\n",
       "    </tr>\n",
       "  </tbody>\n",
       "</table>\n",
       "</div>"
      ],
      "text/plain": [
       "                              AGG                                      \\\n",
       "                             open      high     low    close   volume   \n",
       "time                                                                    \n",
       "2018-12-13 00:00:00-05:00  105.59  105.6500  105.53  105.535  4859560   \n",
       "2018-12-14 00:00:00-05:00  105.68  105.6800  105.56  105.560  5271384   \n",
       "2018-12-17 00:00:00-05:00  105.66  105.7800  105.61  105.750  6643780   \n",
       "2018-12-18 00:00:00-05:00  105.63  105.8400  105.63  105.820  6444906   \n",
       "2018-12-19 00:00:00-05:00  105.88  106.1699  105.79  105.950  7177745   \n",
       "\n",
       "                                           SPY                             \\\n",
       "                          daily_return    open      high      low   close   \n",
       "time                                                                        \n",
       "2018-12-13 00:00:00-05:00          NaN  266.52  267.4900  264.120  265.41   \n",
       "2018-12-14 00:00:00-05:00     0.000237  262.96  265.5126  259.850  260.50   \n",
       "2018-12-17 00:00:00-05:00     0.001800  259.40  260.6800  253.525  255.10   \n",
       "2018-12-18 00:00:00-05:00     0.000662  257.20  257.9500  253.280  255.12   \n",
       "2018-12-19 00:00:00-05:00     0.001229  255.17  259.4000  249.350  251.19   \n",
       "\n",
       "                                                   \n",
       "                              volume daily_return  \n",
       "time                                               \n",
       "2018-12-13 00:00:00-05:00   85184961          NaN  \n",
       "2018-12-14 00:00:00-05:00  102862203    -0.018500  \n",
       "2018-12-17 00:00:00-05:00  144021435    -0.020729  \n",
       "2018-12-18 00:00:00-05:00  119045611     0.000078  \n",
       "2018-12-19 00:00:00-05:00  195780833    -0.015405  "
      ]
     },
     "execution_count": 214,
     "metadata": {},
     "output_type": "execute_result"
    }
   ],
   "source": [
    "MC_thirtyyear.portfolio_data.head()"
   ]
  },
  {
   "cell_type": "code",
   "execution_count": 216,
   "id": "150af142-0677-4d95-a3ab-0eb6608eb8db",
   "metadata": {},
   "outputs": [
    {
     "name": "stdout",
     "output_type": "stream",
     "text": [
      "Running Monte Carlo simulation number 0.\n",
      "Running Monte Carlo simulation number 10.\n",
      "Running Monte Carlo simulation number 20.\n",
      "Running Monte Carlo simulation number 30.\n",
      "Running Monte Carlo simulation number 40.\n",
      "Running Monte Carlo simulation number 50.\n",
      "Running Monte Carlo simulation number 60.\n",
      "Running Monte Carlo simulation number 70.\n",
      "Running Monte Carlo simulation number 80.\n",
      "Running Monte Carlo simulation number 90.\n",
      "Running Monte Carlo simulation number 100.\n"
     ]
    },
    {
     "name": "stderr",
     "output_type": "stream",
     "text": [
      "/Users/Hockenbery/fintech/Python_Project/Challenge-5/MCForecastTools.py:117: PerformanceWarning: DataFrame is highly fragmented.  This is usually the result of calling `frame.insert` many times, which has poor performance.  Consider joining all columns at once using pd.concat(axis=1) instead.  To get a de-fragmented frame, use `newframe = frame.copy()`\n",
      "  portfolio_cumulative_returns[n] = (1 + sim_df.fillna(0)).cumprod()\n"
     ]
    },
    {
     "name": "stdout",
     "output_type": "stream",
     "text": [
      "Running Monte Carlo simulation number 110.\n",
      "Running Monte Carlo simulation number 120.\n",
      "Running Monte Carlo simulation number 130.\n",
      "Running Monte Carlo simulation number 140.\n",
      "Running Monte Carlo simulation number 150.\n",
      "Running Monte Carlo simulation number 160.\n",
      "Running Monte Carlo simulation number 170.\n",
      "Running Monte Carlo simulation number 180.\n",
      "Running Monte Carlo simulation number 190.\n",
      "Running Monte Carlo simulation number 200.\n",
      "Running Monte Carlo simulation number 210.\n",
      "Running Monte Carlo simulation number 220.\n",
      "Running Monte Carlo simulation number 230.\n",
      "Running Monte Carlo simulation number 240.\n",
      "Running Monte Carlo simulation number 250.\n",
      "Running Monte Carlo simulation number 260.\n",
      "Running Monte Carlo simulation number 270.\n",
      "Running Monte Carlo simulation number 280.\n",
      "Running Monte Carlo simulation number 290.\n",
      "Running Monte Carlo simulation number 300.\n",
      "Running Monte Carlo simulation number 310.\n",
      "Running Monte Carlo simulation number 320.\n",
      "Running Monte Carlo simulation number 330.\n",
      "Running Monte Carlo simulation number 340.\n",
      "Running Monte Carlo simulation number 350.\n",
      "Running Monte Carlo simulation number 360.\n",
      "Running Monte Carlo simulation number 370.\n",
      "Running Monte Carlo simulation number 380.\n",
      "Running Monte Carlo simulation number 390.\n",
      "Running Monte Carlo simulation number 400.\n",
      "Running Monte Carlo simulation number 410.\n",
      "Running Monte Carlo simulation number 420.\n",
      "Running Monte Carlo simulation number 430.\n",
      "Running Monte Carlo simulation number 440.\n",
      "Running Monte Carlo simulation number 450.\n",
      "Running Monte Carlo simulation number 460.\n",
      "Running Monte Carlo simulation number 470.\n",
      "Running Monte Carlo simulation number 480.\n",
      "Running Monte Carlo simulation number 490.\n"
     ]
    },
    {
     "data": {
      "text/html": [
       "<div>\n",
       "<style scoped>\n",
       "    .dataframe tbody tr th:only-of-type {\n",
       "        vertical-align: middle;\n",
       "    }\n",
       "\n",
       "    .dataframe tbody tr th {\n",
       "        vertical-align: top;\n",
       "    }\n",
       "\n",
       "    .dataframe thead th {\n",
       "        text-align: right;\n",
       "    }\n",
       "</style>\n",
       "<table border=\"1\" class=\"dataframe\">\n",
       "  <thead>\n",
       "    <tr style=\"text-align: right;\">\n",
       "      <th></th>\n",
       "      <th>0</th>\n",
       "      <th>1</th>\n",
       "      <th>2</th>\n",
       "      <th>3</th>\n",
       "      <th>4</th>\n",
       "      <th>5</th>\n",
       "      <th>6</th>\n",
       "      <th>7</th>\n",
       "      <th>8</th>\n",
       "      <th>9</th>\n",
       "      <th>...</th>\n",
       "      <th>490</th>\n",
       "      <th>491</th>\n",
       "      <th>492</th>\n",
       "      <th>493</th>\n",
       "      <th>494</th>\n",
       "      <th>495</th>\n",
       "      <th>496</th>\n",
       "      <th>497</th>\n",
       "      <th>498</th>\n",
       "      <th>499</th>\n",
       "    </tr>\n",
       "  </thead>\n",
       "  <tbody>\n",
       "    <tr>\n",
       "      <th>0</th>\n",
       "      <td>1.000000</td>\n",
       "      <td>1.000000</td>\n",
       "      <td>1.000000</td>\n",
       "      <td>1.000000</td>\n",
       "      <td>1.000000</td>\n",
       "      <td>1.000000</td>\n",
       "      <td>1.000000</td>\n",
       "      <td>1.000000</td>\n",
       "      <td>1.000000</td>\n",
       "      <td>1.000000</td>\n",
       "      <td>...</td>\n",
       "      <td>1.000000</td>\n",
       "      <td>1.000000</td>\n",
       "      <td>1.000000</td>\n",
       "      <td>1.000000</td>\n",
       "      <td>1.000000</td>\n",
       "      <td>1.000000</td>\n",
       "      <td>1.000000</td>\n",
       "      <td>1.000000</td>\n",
       "      <td>1.000000</td>\n",
       "      <td>1.000000</td>\n",
       "    </tr>\n",
       "    <tr>\n",
       "      <th>1</th>\n",
       "      <td>1.008777</td>\n",
       "      <td>1.007362</td>\n",
       "      <td>0.993668</td>\n",
       "      <td>1.005839</td>\n",
       "      <td>1.010055</td>\n",
       "      <td>0.990304</td>\n",
       "      <td>0.993968</td>\n",
       "      <td>1.000109</td>\n",
       "      <td>1.014195</td>\n",
       "      <td>0.995079</td>\n",
       "      <td>...</td>\n",
       "      <td>1.007278</td>\n",
       "      <td>0.997735</td>\n",
       "      <td>1.002738</td>\n",
       "      <td>1.000321</td>\n",
       "      <td>0.995957</td>\n",
       "      <td>1.002490</td>\n",
       "      <td>1.001660</td>\n",
       "      <td>1.006317</td>\n",
       "      <td>0.996891</td>\n",
       "      <td>1.002246</td>\n",
       "    </tr>\n",
       "    <tr>\n",
       "      <th>2</th>\n",
       "      <td>1.014673</td>\n",
       "      <td>1.016664</td>\n",
       "      <td>0.987931</td>\n",
       "      <td>1.009913</td>\n",
       "      <td>1.009344</td>\n",
       "      <td>1.005794</td>\n",
       "      <td>0.990994</td>\n",
       "      <td>1.007586</td>\n",
       "      <td>1.017023</td>\n",
       "      <td>0.989000</td>\n",
       "      <td>...</td>\n",
       "      <td>1.001597</td>\n",
       "      <td>0.999214</td>\n",
       "      <td>1.002547</td>\n",
       "      <td>1.001665</td>\n",
       "      <td>1.004294</td>\n",
       "      <td>0.995324</td>\n",
       "      <td>1.004809</td>\n",
       "      <td>1.006220</td>\n",
       "      <td>0.989994</td>\n",
       "      <td>1.010081</td>\n",
       "    </tr>\n",
       "    <tr>\n",
       "      <th>3</th>\n",
       "      <td>1.016793</td>\n",
       "      <td>1.024189</td>\n",
       "      <td>0.978149</td>\n",
       "      <td>1.009671</td>\n",
       "      <td>1.010791</td>\n",
       "      <td>1.008494</td>\n",
       "      <td>0.989788</td>\n",
       "      <td>1.001469</td>\n",
       "      <td>1.018384</td>\n",
       "      <td>0.991808</td>\n",
       "      <td>...</td>\n",
       "      <td>1.012637</td>\n",
       "      <td>1.013550</td>\n",
       "      <td>0.999840</td>\n",
       "      <td>1.003057</td>\n",
       "      <td>1.010995</td>\n",
       "      <td>0.987158</td>\n",
       "      <td>1.015827</td>\n",
       "      <td>1.009023</td>\n",
       "      <td>0.984942</td>\n",
       "      <td>1.016208</td>\n",
       "    </tr>\n",
       "    <tr>\n",
       "      <th>4</th>\n",
       "      <td>1.008166</td>\n",
       "      <td>1.021126</td>\n",
       "      <td>0.988111</td>\n",
       "      <td>1.011751</td>\n",
       "      <td>1.014099</td>\n",
       "      <td>0.999183</td>\n",
       "      <td>0.983377</td>\n",
       "      <td>1.002134</td>\n",
       "      <td>1.021977</td>\n",
       "      <td>0.994380</td>\n",
       "      <td>...</td>\n",
       "      <td>1.014126</td>\n",
       "      <td>1.006902</td>\n",
       "      <td>1.003815</td>\n",
       "      <td>0.992123</td>\n",
       "      <td>1.008758</td>\n",
       "      <td>0.980670</td>\n",
       "      <td>1.000468</td>\n",
       "      <td>1.003731</td>\n",
       "      <td>0.978683</td>\n",
       "      <td>1.018875</td>\n",
       "    </tr>\n",
       "    <tr>\n",
       "      <th>...</th>\n",
       "      <td>...</td>\n",
       "      <td>...</td>\n",
       "      <td>...</td>\n",
       "      <td>...</td>\n",
       "      <td>...</td>\n",
       "      <td>...</td>\n",
       "      <td>...</td>\n",
       "      <td>...</td>\n",
       "      <td>...</td>\n",
       "      <td>...</td>\n",
       "      <td>...</td>\n",
       "      <td>...</td>\n",
       "      <td>...</td>\n",
       "      <td>...</td>\n",
       "      <td>...</td>\n",
       "      <td>...</td>\n",
       "      <td>...</td>\n",
       "      <td>...</td>\n",
       "      <td>...</td>\n",
       "      <td>...</td>\n",
       "      <td>...</td>\n",
       "    </tr>\n",
       "    <tr>\n",
       "      <th>7556</th>\n",
       "      <td>85.301650</td>\n",
       "      <td>64.328012</td>\n",
       "      <td>74.692268</td>\n",
       "      <td>154.347293</td>\n",
       "      <td>39.650387</td>\n",
       "      <td>56.335132</td>\n",
       "      <td>141.405088</td>\n",
       "      <td>121.072028</td>\n",
       "      <td>52.774960</td>\n",
       "      <td>76.162856</td>\n",
       "      <td>...</td>\n",
       "      <td>78.933800</td>\n",
       "      <td>75.085183</td>\n",
       "      <td>218.545290</td>\n",
       "      <td>191.690777</td>\n",
       "      <td>109.932211</td>\n",
       "      <td>177.768676</td>\n",
       "      <td>96.187172</td>\n",
       "      <td>314.382543</td>\n",
       "      <td>42.715828</td>\n",
       "      <td>105.256985</td>\n",
       "    </tr>\n",
       "    <tr>\n",
       "      <th>7557</th>\n",
       "      <td>85.302081</td>\n",
       "      <td>64.113380</td>\n",
       "      <td>74.717973</td>\n",
       "      <td>153.841872</td>\n",
       "      <td>39.629550</td>\n",
       "      <td>56.435671</td>\n",
       "      <td>141.293218</td>\n",
       "      <td>121.058344</td>\n",
       "      <td>52.974105</td>\n",
       "      <td>75.951230</td>\n",
       "      <td>...</td>\n",
       "      <td>78.598729</td>\n",
       "      <td>74.879116</td>\n",
       "      <td>219.542864</td>\n",
       "      <td>191.376416</td>\n",
       "      <td>110.621331</td>\n",
       "      <td>178.456376</td>\n",
       "      <td>96.260191</td>\n",
       "      <td>313.026513</td>\n",
       "      <td>42.961275</td>\n",
       "      <td>105.190851</td>\n",
       "    </tr>\n",
       "    <tr>\n",
       "      <th>7558</th>\n",
       "      <td>84.867496</td>\n",
       "      <td>64.677040</td>\n",
       "      <td>75.083022</td>\n",
       "      <td>154.706744</td>\n",
       "      <td>39.483687</td>\n",
       "      <td>56.138800</td>\n",
       "      <td>141.176050</td>\n",
       "      <td>121.912315</td>\n",
       "      <td>52.907759</td>\n",
       "      <td>75.663114</td>\n",
       "      <td>...</td>\n",
       "      <td>78.890055</td>\n",
       "      <td>75.282393</td>\n",
       "      <td>220.180218</td>\n",
       "      <td>191.151671</td>\n",
       "      <td>109.880231</td>\n",
       "      <td>178.409429</td>\n",
       "      <td>96.293523</td>\n",
       "      <td>315.044525</td>\n",
       "      <td>43.307372</td>\n",
       "      <td>106.708950</td>\n",
       "    </tr>\n",
       "    <tr>\n",
       "      <th>7559</th>\n",
       "      <td>84.895034</td>\n",
       "      <td>64.490165</td>\n",
       "      <td>75.247434</td>\n",
       "      <td>154.548560</td>\n",
       "      <td>39.629721</td>\n",
       "      <td>55.572111</td>\n",
       "      <td>141.052522</td>\n",
       "      <td>121.192485</td>\n",
       "      <td>53.012846</td>\n",
       "      <td>75.522169</td>\n",
       "      <td>...</td>\n",
       "      <td>79.131505</td>\n",
       "      <td>75.703791</td>\n",
       "      <td>220.601834</td>\n",
       "      <td>191.787834</td>\n",
       "      <td>110.504471</td>\n",
       "      <td>180.500221</td>\n",
       "      <td>95.911855</td>\n",
       "      <td>317.123069</td>\n",
       "      <td>43.275227</td>\n",
       "      <td>106.884802</td>\n",
       "    </tr>\n",
       "    <tr>\n",
       "      <th>7560</th>\n",
       "      <td>84.717339</td>\n",
       "      <td>64.092939</td>\n",
       "      <td>75.725879</td>\n",
       "      <td>155.945217</td>\n",
       "      <td>39.661717</td>\n",
       "      <td>56.068671</td>\n",
       "      <td>141.175937</td>\n",
       "      <td>119.812319</td>\n",
       "      <td>52.643569</td>\n",
       "      <td>75.426829</td>\n",
       "      <td>...</td>\n",
       "      <td>78.691953</td>\n",
       "      <td>76.115102</td>\n",
       "      <td>220.619245</td>\n",
       "      <td>192.414723</td>\n",
       "      <td>110.034126</td>\n",
       "      <td>179.009696</td>\n",
       "      <td>96.076449</td>\n",
       "      <td>314.851181</td>\n",
       "      <td>43.092331</td>\n",
       "      <td>107.129135</td>\n",
       "    </tr>\n",
       "  </tbody>\n",
       "</table>\n",
       "<p>7561 rows × 500 columns</p>\n",
       "</div>"
      ],
      "text/plain": [
       "            0          1          2           3          4          5    \\\n",
       "0      1.000000   1.000000   1.000000    1.000000   1.000000   1.000000   \n",
       "1      1.008777   1.007362   0.993668    1.005839   1.010055   0.990304   \n",
       "2      1.014673   1.016664   0.987931    1.009913   1.009344   1.005794   \n",
       "3      1.016793   1.024189   0.978149    1.009671   1.010791   1.008494   \n",
       "4      1.008166   1.021126   0.988111    1.011751   1.014099   0.999183   \n",
       "...         ...        ...        ...         ...        ...        ...   \n",
       "7556  85.301650  64.328012  74.692268  154.347293  39.650387  56.335132   \n",
       "7557  85.302081  64.113380  74.717973  153.841872  39.629550  56.435671   \n",
       "7558  84.867496  64.677040  75.083022  154.706744  39.483687  56.138800   \n",
       "7559  84.895034  64.490165  75.247434  154.548560  39.629721  55.572111   \n",
       "7560  84.717339  64.092939  75.725879  155.945217  39.661717  56.068671   \n",
       "\n",
       "             6           7          8          9    ...        490        491  \\\n",
       "0       1.000000    1.000000   1.000000   1.000000  ...   1.000000   1.000000   \n",
       "1       0.993968    1.000109   1.014195   0.995079  ...   1.007278   0.997735   \n",
       "2       0.990994    1.007586   1.017023   0.989000  ...   1.001597   0.999214   \n",
       "3       0.989788    1.001469   1.018384   0.991808  ...   1.012637   1.013550   \n",
       "4       0.983377    1.002134   1.021977   0.994380  ...   1.014126   1.006902   \n",
       "...          ...         ...        ...        ...  ...        ...        ...   \n",
       "7556  141.405088  121.072028  52.774960  76.162856  ...  78.933800  75.085183   \n",
       "7557  141.293218  121.058344  52.974105  75.951230  ...  78.598729  74.879116   \n",
       "7558  141.176050  121.912315  52.907759  75.663114  ...  78.890055  75.282393   \n",
       "7559  141.052522  121.192485  53.012846  75.522169  ...  79.131505  75.703791   \n",
       "7560  141.175937  119.812319  52.643569  75.426829  ...  78.691953  76.115102   \n",
       "\n",
       "             492         493         494         495        496         497  \\\n",
       "0       1.000000    1.000000    1.000000    1.000000   1.000000    1.000000   \n",
       "1       1.002738    1.000321    0.995957    1.002490   1.001660    1.006317   \n",
       "2       1.002547    1.001665    1.004294    0.995324   1.004809    1.006220   \n",
       "3       0.999840    1.003057    1.010995    0.987158   1.015827    1.009023   \n",
       "4       1.003815    0.992123    1.008758    0.980670   1.000468    1.003731   \n",
       "...          ...         ...         ...         ...        ...         ...   \n",
       "7556  218.545290  191.690777  109.932211  177.768676  96.187172  314.382543   \n",
       "7557  219.542864  191.376416  110.621331  178.456376  96.260191  313.026513   \n",
       "7558  220.180218  191.151671  109.880231  178.409429  96.293523  315.044525   \n",
       "7559  220.601834  191.787834  110.504471  180.500221  95.911855  317.123069   \n",
       "7560  220.619245  192.414723  110.034126  179.009696  96.076449  314.851181   \n",
       "\n",
       "            498         499  \n",
       "0      1.000000    1.000000  \n",
       "1      0.996891    1.002246  \n",
       "2      0.989994    1.010081  \n",
       "3      0.984942    1.016208  \n",
       "4      0.978683    1.018875  \n",
       "...         ...         ...  \n",
       "7556  42.715828  105.256985  \n",
       "7557  42.961275  105.190851  \n",
       "7558  43.307372  106.708950  \n",
       "7559  43.275227  106.884802  \n",
       "7560  43.092331  107.129135  \n",
       "\n",
       "[7561 rows x 500 columns]"
      ]
     },
     "execution_count": 216,
     "metadata": {},
     "output_type": "execute_result"
    }
   ],
   "source": [
    "MC_thirtyyear.calc_cumulative_return()"
   ]
  },
  {
   "cell_type": "code",
   "execution_count": 217,
   "id": "27831fd7-216f-4432-a4e9-3e9dd9577de6",
   "metadata": {},
   "outputs": [
    {
     "data": {
      "image/png": "[encoded data removed]",
      "text/plain": [
       "<Figure size 432x288 with 1 Axes>"
      ]
     },
     "metadata": {
      "needs_background": "light"
     },
     "output_type": "display_data"
    }
   ],
   "source": [
    "MC_sim_line_plot = MC_thirtyyear.plot_simulation()"
   ]
  },
  {
   "cell_type": "code",
   "execution_count": 218,
   "id": "372edc1b-36bd-4ebf-9da2-f928eb849f8a",
   "metadata": {},
   "outputs": [
    {
     "data": {
      "image/png": "[encoded data removed]",
      "text/plain": [
       "<Figure size 432x288 with 1 Axes>"
      ]
     },
     "metadata": {
      "needs_background": "light"
     },
     "output_type": "display_data"
    }
   ],
   "source": [
    "MC_sim_dist_plot = MC_thirtyyear.plot_distribution()"
   ]
  },
  {
   "cell_type": "code",
   "execution_count": 219,
   "id": "08fb41e6-f216-46a7-9d29-976c3bede5e6",
   "metadata": {},
   "outputs": [],
   "source": [
    "MC_summary_statistics = MC_thirtyyear.summarize_cumulative_return()"
   ]
  },
  {
   "cell_type": "code",
   "execution_count": 220,
   "id": "22f9c3ab-7622-4db2-9aad-deb94306fa26",
   "metadata": {},
   "outputs": [
    {
     "name": "stdout",
     "output_type": "stream",
     "text": [
      "count           500.000000\n",
      "mean            121.720158\n",
      "std              69.840266\n",
      "min              27.279196\n",
      "25%              73.804403\n",
      "50%             106.987799\n",
      "75%             153.333034\n",
      "max             704.988479\n",
      "95% CI Lower     35.918466\n",
      "95% CI Upper    293.823343\n",
      "Name: 7560, dtype: float64\n"
     ]
    }
   ],
   "source": [
    "print(MC_summary_statistics)"
   ]
  },
  {
   "cell_type": "code",
   "execution_count": null,
   "id": "77084cf6-c545-4276-bb43-574eecbe7fa4",
   "metadata": {},
   "outputs": [],
   "source": []
  }
 ],
 "metadata": {
  "kernelspec": {
   "display_name": "Python 3 (ipykernel)",
   "language": "python",
   "name": "python3"
  },
  "language_info": {
   "codemirror_mode": {
    "name": "ipython",
    "version": 3
   },
   "file_extension": ".py",
   "mimetype": "text/x-python",
   "name": "python",
   "nbconvert_exporter": "python",
   "pygments_lexer": "ipython3",
   "version": "3.9.7"
  }
 },
 "nbformat": 4,
 "nbformat_minor": 5
}
